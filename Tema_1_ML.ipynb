{
  "nbformat": 4,
  "nbformat_minor": 0,
  "metadata": {
    "colab": {
      "name": "Tema_1_Skel.ipynb",
      "provenance": [],
      "collapsed_sections": [
        "_0gPDAkaF5Fy"
      ],
      "toc_visible": true
    },
    "kernelspec": {
      "display_name": "Python 3",
      "language": "python",
      "name": "python3"
    },
    "language_info": {
      "codemirror_mode": {
        "name": "ipython",
        "version": 3
      },
      "file_extension": ".py",
      "mimetype": "text/x-python",
      "name": "python",
      "nbconvert_exporter": "python",
      "pygments_lexer": "ipython3",
      "version": "3.8.5"
    },
    "accelerator": "GPU"
  },
  "cells": [
    {
      "cell_type": "markdown",
      "metadata": {
        "id": "dDsijK1tlD3l"
      },
      "source": [
        "# Tema 1 - A taste for music\n",
        "## Găsirea genului pentru piese\n",
        "\n",
        "### Autori: \n",
        "* George Muraru\n",
        "* Alexandru Sorici"
      ]
    },
    {
      "cell_type": "markdown",
      "metadata": {
        "id": "UTYLEhD_BM06"
      },
      "source": [
        "## 1. Scopul temei\n",
        "\n"
      ]
    },
    {
      "cell_type": "markdown",
      "metadata": {
        "id": "OkKFf7mEg8oZ"
      },
      "source": [
        "Tema are ca scop folosirea metodelor de clasificare studiate în cadrul cursului/laboratorului pentru a **determina genul muzical** al unor sample-uri audio dintr-un set de date.\n",
        "\n",
        "Se dorește înțelegerea procedurii tipice de **prelucrare a unui set de date**, de **explorare a atributelor**, precum și efectuarea unei **analize comparative** a mai multor algoritmi de clasificare, evidențiând diferențele între ei prin metrici precum *acuratețe, precizie, regăsire (eng. recall)*. "
      ]
    },
    {
      "cell_type": "markdown",
      "metadata": {
        "id": "67UlrcAdqj3N"
      },
      "source": [
        "## 2. Set de date"
      ]
    },
    {
      "cell_type": "markdown",
      "metadata": {
        "id": "DEvxaYvXhAn7"
      },
      "source": [
        "Primul pas în orice problema de data science este încărcarea și \"înțelegerea\" datelor.\n",
        "\n",
        "Setul de date utilizat poartă denumirea de Free Music Archive [[1]](#fma). \n",
        "\n",
        "Dataset-ul utilizat este \"usor\" modificat - va conține doar 4 genuri muzicale: *Rock*, *Hip-Hop*, *Folk* și *Electronic*.\n",
        "\n",
        "Setul de date este deja echilibrat (eng. balanced) -- sunt câte 500 de piese din fiecare gen în setul de train și câte 100 în cel de testare.\n",
        "\n",
        "Dacă setați parametrul [DOWNLOAD_SAMPLE_DATASET](#scrollTo=te02bqsfMhls) se va descărca și un audio sample pentru fiecare track_id atunci când se rulează celula specifică pentru secțiunea [Descărcare](#scrollTo=RxCYjmzTM82o).\n",
        "\n",
        "Puteți asculta sample-ul din piesă [aici](#scrollTo=te02bqsfMhls).\n",
        "\n",
        "Se va folosi drept **clasă** (eticheta care trebuie prezisa) *genul muzical cel mai general* (numele coloanei în engleza este *top_genre*) pentru fiecare piesă.\n",
        "\n",
        "\n",
        "Setul de date conține pentru fiecare sample mai multe atribute (eng. features), de tip numeric, care pot fi folosite pentru clasificare. Acestea pot fi găsite în fișierele *features.csv* sau *echonest.csv*.\n",
        "\n",
        "\n",
        "Pentru mai multe informații privind setul de date, se poate consulta [acest repository](https://github.com/mdeff/fma).\n",
        "\n",
        "Dataset-ul utilizat este o copie ușor modificată a celor [3 dataset-uri](https://github.com/mdeff/fma#Data): *fma_small.zip*, *fma_medium.zip*, *fma_large.zip*."
      ]
    },
    {
      "cell_type": "markdown",
      "metadata": {
        "id": "dKLOmyV707aI"
      },
      "source": [
        "## 3. Workspace Setup"
      ]
    },
    {
      "cell_type": "markdown",
      "metadata": {
        "id": "te02bqsfMhls"
      },
      "source": [
        "### Parametrii"
      ]
    },
    {
      "cell_type": "code",
      "metadata": {
        "id": "ibnL7HbE_Er3"
      },
      "source": [
        "# Music samples -- has ~ 2GB\n",
        "DOWNLOAD_SAMPLE_DATASET = True  #@param {type: \"boolean\"}"
      ],
      "execution_count": 1,
      "outputs": []
    },
    {
      "cell_type": "markdown",
      "metadata": {
        "id": "HhdeP2WuL1AE"
      },
      "source": [
        "### Dependențe"
      ]
    },
    {
      "cell_type": "code",
      "metadata": {
        "colab": {
          "base_uri": "https://localhost:8080/"
        },
        "id": "Tl4uOyEu08xX",
        "outputId": "ce9dd4d5-617d-47b1-9a68-c5d8be2657fc"
      },
      "source": [
        "!pip install pandas # needed for loading the dataset\n",
        "!pip install xgboost\n",
        "\n",
        "if DOWNLOAD_SAMPLE_DATASET:\n",
        "    !pip install ffmpeg # Needed by librosa for mp3\n",
        "    #!pip install librosa\n",
        "    !pip install tqdm # Progress bar for dowloading large file"
      ],
      "execution_count": 2,
      "outputs": [
        {
          "output_type": "stream",
          "text": [
            "Requirement already satisfied: pandas in /usr/local/lib/python3.7/dist-packages (1.1.5)\n",
            "Requirement already satisfied: python-dateutil>=2.7.3 in /usr/local/lib/python3.7/dist-packages (from pandas) (2.8.1)\n",
            "Requirement already satisfied: numpy>=1.15.4 in /usr/local/lib/python3.7/dist-packages (from pandas) (1.19.5)\n",
            "Requirement already satisfied: pytz>=2017.2 in /usr/local/lib/python3.7/dist-packages (from pandas) (2018.9)\n",
            "Requirement already satisfied: six>=1.5 in /usr/local/lib/python3.7/dist-packages (from python-dateutil>=2.7.3->pandas) (1.15.0)\n",
            "Requirement already satisfied: xgboost in /usr/local/lib/python3.7/dist-packages (0.90)\n",
            "Requirement already satisfied: scipy in /usr/local/lib/python3.7/dist-packages (from xgboost) (1.4.1)\n",
            "Requirement already satisfied: numpy in /usr/local/lib/python3.7/dist-packages (from xgboost) (1.19.5)\n",
            "Collecting ffmpeg\n",
            "  Downloading https://files.pythonhosted.org/packages/f0/cc/3b7408b8ecf7c1d20ad480c3eaed7619857bf1054b690226e906fdf14258/ffmpeg-1.4.tar.gz\n",
            "Building wheels for collected packages: ffmpeg\n",
            "  Building wheel for ffmpeg (setup.py) ... \u001b[?25l\u001b[?25hdone\n",
            "  Created wheel for ffmpeg: filename=ffmpeg-1.4-cp37-none-any.whl size=6083 sha256=9820e09151f67d2553e4da025cb5ca1528dff668f9ec459ac826887b1e366b2f\n",
            "  Stored in directory: /root/.cache/pip/wheels/b6/68/c3/a05a35f647ba871e5572b9bbfc0b95fd1c6637a2219f959e7a\n",
            "Successfully built ffmpeg\n",
            "Installing collected packages: ffmpeg\n",
            "Successfully installed ffmpeg-1.4\n",
            "Requirement already satisfied: tqdm in /usr/local/lib/python3.7/dist-packages (4.41.1)\n"
          ],
          "name": "stdout"
        }
      ]
    },
    {
      "cell_type": "markdown",
      "metadata": {
        "id": "FOsgPbZl1_W6"
      },
      "source": [
        "### Import biblioteci"
      ]
    },
    {
      "cell_type": "code",
      "metadata": {
        "id": "wK3S5gpr2c2i"
      },
      "source": [
        "if DOWNLOAD_SAMPLE_DATASET:\n",
        "    from tqdm import tqdm\n",
        "    #import librosa\n",
        "\n",
        "\n",
        "from zipfile import ZipFile\n",
        "import IPython.display as ipd\n",
        "\n",
        "import pandas as pd\n",
        "import numpy as np\n",
        "\n",
        "import matplotlib.pyplot as plt\n",
        "import seaborn as sns\n",
        "\n",
        "from sklearn.cluster import KMeans\n",
        "from sklearn.ensemble import RandomForestClassifier\n",
        "from sklearn import svm\n",
        "import xgboost as xgb\n",
        "from sklearn.naive_bayes import GaussianNB\n",
        "\n",
        "from sklearn.preprocessing import PolynomialFeatures\n",
        "from sklearn.tree import DecisionTreeClassifier\n",
        "from sklearn.pipeline import Pipeline\n",
        "\n",
        "from sklearn.preprocessing import StandardScaler\n",
        "from sklearn.model_selection import GridSearchCV, RandomizedSearchCV, train_test_split\n",
        "from sklearn.feature_selection import SelectKBest, chi2, f_classif, SelectFromModel, mutual_info_classif, SelectPercentile\n",
        "from sklearn.pipeline import Pipeline\n",
        "\n",
        "from sklearn.metrics.cluster import silhouette_score #for kmeans\n",
        "from sklearn.metrics import accuracy_score, recall_score, precision_score, f1_score, confusion_matrix, classification_report # for supervised methods"
      ],
      "execution_count": 3,
      "outputs": []
    },
    {
      "cell_type": "markdown",
      "metadata": {
        "id": "iXlSfuvvzzFT"
      },
      "source": [
        "### Funcții ajutătoare"
      ]
    },
    {
      "cell_type": "code",
      "metadata": {
        "id": "yWnuDNtmEyMB"
      },
      "source": [
        "def _reporthook(t):\n",
        "    \"\"\" ``reporthook`` to use with ``urllib.request`` that prints the process of the download.\n",
        "\n",
        "    Uses ``tqdm`` for progress bar.\n",
        "\n",
        "    **Reference:**\n",
        "    https://github.com/tqdm/tqdm\n",
        "\n",
        "    Args:\n",
        "        t (tqdm.tqdm) Progress bar.\n",
        "    \"\"\"\n",
        "    last_b = [0]\n",
        "\n",
        "    def inner(b=1, bsize=1, tsize=None):\n",
        "        \"\"\"\n",
        "        Args:\n",
        "            b (int, optional): Number of blocks just transferred [default: 1].\n",
        "            bsize (int, optional): Size of each block (in tqdm units) [default: 1].\n",
        "            tsize (int, optional): Total size (in tqdm units). If [default: None] remains unchanged.\n",
        "        \"\"\"\n",
        "        if tsize is not None:\n",
        "            t.total = tsize\n",
        "        t.update((b - last_b[0]) * bsize)\n",
        "        last_b[0] = b\n",
        "\n",
        "    return inner\n",
        "\n",
        "def getHomeworkArchives():\n",
        "    \"\"\" Checks if the homework dataset is present in the local directory, if not,\n",
        "    downloads it.\n",
        "    \"\"\"\n",
        "    from os import path\n",
        "\n",
        "    dataset_info = {\n",
        "        \"fma_song_info.zip\": \"http://swarm.cs.pub.ro/~gmuraru/ML/HW1/data/fma_song_info.zip\",\n",
        "        \"fma_song_samples.zip\": \"http://swarm.cs.pub.ro/~gmuraru/ML/HW1/data/fma_song_samples.zip\" # Need to upload this\n",
        "    }\n",
        "\n",
        "    for dataset_file, dataset_url in dataset_info.items():\n",
        "        if not path.isfile(dataset_file):\n",
        "            import urllib\n",
        "            with tqdm(unit='B', unit_scale=True, miniters=1, desc=dataset_file) as t:\n",
        "                urllib.request.urlretrieve(dataset_url, filename=dataset_file, reporthook=_reporthook(t))\n",
        "\n",
        "            assert(path.isfile(dataset_file))\n",
        "\n",
        "            with ZipFile(dataset_file, 'r') as zip_ref:\n",
        "                zip_ref.extractall()\n",
        "        else:\n",
        "            print(f\"{dataset_file} already in the local directory\")\n",
        "\n",
        "\n",
        "# ALL THE FUCTIONS FROM THIS POINT FORWARD ARE NEEDED ONLY IF\n",
        "# DOWNLOAD_SAMPLE_DATASET IS TRUE\n",
        "def load_tracks():\n",
        "    zipFile = ZipFile(\"fma_song_info.zip\")\n",
        "    return pd.read_csv(zipFile.open(\"song_info/tracks.csv\"), index_col=0, header=[0,1])\n",
        "\n",
        "\n",
        "def load_features():\n",
        "    zipFile = ZipFile(\"fma_song_info.zip\")\n",
        "    return pd.read_csv(zipFile.open('song_info/features.csv'), index_col=0, header=[0,1,2])\n",
        "\n",
        "\n",
        "def load_echonest():\n",
        "    zipFile = ZipFile(\"fma_song_info.zip\")\n",
        "    return pd.read_csv(zipFile.open(\"song_info/echonest.csv\"), index_col=0, header=[0,1,2])\n",
        "\n",
        "\n",
        "def get_song_path(track_id: int):\n",
        "    ''' Given a track id return the path to the sample\n",
        "\n",
        "    Args:\n",
        "        track_id (int): the id for a song found the dataset\n",
        "\n",
        "    Returns:\n",
        "        The path to the sample relative to the current directory\n",
        "    '''\n",
        "\n",
        "    return f'song_samples/{track_id:06}.mp3'"
      ],
      "execution_count": 4,
      "outputs": []
    },
    {
      "cell_type": "markdown",
      "metadata": {
        "id": "RxCYjmzTM82o"
      },
      "source": [
        "### Descărcare"
      ]
    },
    {
      "cell_type": "code",
      "metadata": {
        "colab": {
          "base_uri": "https://localhost:8080/"
        },
        "id": "R7UQywrxOaLW",
        "outputId": "72580554-b572-409e-9728-cdd556cca0eb"
      },
      "source": [
        "getHomeworkArchives()"
      ],
      "execution_count": 5,
      "outputs": [
        {
          "output_type": "stream",
          "text": [
            "fma_song_info.zip: 12.3MB [00:01, 7.10MB/s]                           \n",
            "fma_song_samples.zip: 2.14GB [01:27, 24.6MB/s]                            \n"
          ],
          "name": "stderr"
        }
      ]
    },
    {
      "cell_type": "markdown",
      "metadata": {
        "id": "42KuhlsjfZLR"
      },
      "source": [
        "### Încărcare date"
      ]
    },
    {
      "cell_type": "code",
      "metadata": {
        "colab": {
          "base_uri": "https://localhost:8080/"
        },
        "id": "KjBTENJSfbpp",
        "outputId": "7097dc9a-b41d-441a-a15b-c9009c684c85"
      },
      "source": [
        "# Load Echonest features for our dataset\n",
        "echonest = load_echonest()\n",
        "tracks = load_tracks()\n",
        "features = load_features()\n",
        "\n",
        "# True/False masks for selecting training/test\n",
        "TRAIN_MASK = tracks['set', 'split'] == 'training'\n",
        "VALIDATION_MASK = tracks['set', 'split'] == 'validation'\n",
        "TEST_MASK = tracks['set', 'split'] == 'test'\n",
        "\n",
        "# concat audio_features + temporal_features + social_features\n",
        "X_train = np.asarray(echonest.loc[TRAIN_MASK, ('echonest', 'audio_features')])\n",
        "X_validation = np.asarray(echonest.loc[VALIDATION_MASK, ('echonest', 'audio_features')])\n",
        "X_test = np.asarray(echonest.loc[TEST_MASK, ('echonest', 'audio_features')])\n",
        "X_validation_test = np.concatenate([X_validation, X_test], axis=0)\n",
        "X_all = np.concatenate([X_train, X_validation, X_test], axis=0)\n",
        "\n",
        "# select the labels and convert to idx\n",
        "label_to_idx_mapping = {\"Rock\":0, \"Hip-Hop\":1, \"Folk\":2, \"Electronic\":3}\n",
        "\n",
        "Y_train = tracks.loc[TRAIN_MASK, ('track', 'genre_top')]\n",
        "Y_validation = tracks.loc[VALIDATION_MASK, ('track', 'genre_top')]\n",
        "Y_test = tracks.loc[TEST_MASK, ('track', 'genre_top')]\n",
        "\n",
        "Y_train = np.asarray([label_to_idx_mapping[lbl] for lbl in Y_train])\n",
        "Y_validation = np.asarray([label_to_idx_mapping[lbl] for lbl in Y_validation])\n",
        "Y_test = np.asarray([label_to_idx_mapping[lbl] for lbl in Y_test])\n",
        "Y_validation_test = np.concatenate([Y_validation, Y_test], axis=0)\n",
        "Y_all = np.concatenate([Y_train, Y_validation, Y_test], axis=0)\n",
        "\n",
        "print(\"X_train shape: {}, Y_train_shape: {}\".format(X_train.shape, Y_train.shape))\n",
        "print(\"X_validation shape: {}, Y_validation shape: {}\".format(X_validation.shape, Y_validation.shape))\n",
        "print(\"X_test shape: {}, Y_test shape: {}\".format(X_test.shape, Y_test.shape))\n",
        "print(\"X_validation_test shape: {}, Y_validation_test shape: {}\".format(X_validation_test.shape, Y_validation_test.shape))\n",
        "print(\"X_all shape: {}, Y_all shape: {}\".format(X_all.shape, Y_all.shape))"
      ],
      "execution_count": 6,
      "outputs": [
        {
          "output_type": "stream",
          "text": [
            "X_train shape: (2000, 8), Y_train_shape: (2000,)\n",
            "X_validation shape: (225, 8), Y_validation shape: (225,)\n",
            "X_test shape: (175, 8), Y_test shape: (175,)\n",
            "X_validation_test shape: (400, 8), Y_validation_test shape: (400,)\n",
            "X_all shape: (2400, 8), Y_all shape: (2400,)\n"
          ],
          "name": "stdout"
        }
      ]
    },
    {
      "cell_type": "markdown",
      "metadata": {
        "id": "NiqnAbGQpEVi"
      },
      "source": [
        "## 4. Problemă de rezolvat\n",
        "\n"
      ]
    },
    {
      "cell_type": "markdown",
      "metadata": {
        "id": "m3X0ozpFg2Bc"
      },
      "source": [
        "Împărțim problema de rezolvat a acestei teme în două subpuncte principale:\n",
        "  * Implementarea unui clasificator al genului muzical (eng. genre) pentru un anumit sample de piesă prin intermediul a patru algoritmi (KMeans, Decision Trees/Random Forest, XGBoost, SVM, Naive Bayes). Construirea unei variante de baza (eng. baseline) a clasificatorului pentru fiecare algoritm propus.\n",
        "  * Explorarea metodelor prin care pot fi îmbunătățite rezultatele fiecarui algoritm în parte (e.g. varierea atributelor, prelucrarea suplimentară a atributelor, modificarea hiperparametrilor algoritmului), evaluarea comparativă intra- (i.e. față de baseline pentru același tip de algoritm) și inter-algoritm."
      ]
    },
    {
      "cell_type": "markdown",
      "metadata": {
        "id": "sX1b987kzGcn"
      },
      "source": [
        "### 4.1. Implementare si rulare clasificatori [6pct]\n",
        "\n",
        "Pentru acest task se vor rula mai mulți algoritmi pe setul de date și vor fi notate rezultatele obținute.\n",
        "\n",
        "Veți crea câte un clasificator folosind fiecare din cei patru algoritmi din următoarea listă:\n",
        "  * KMeans [1 pct]\n",
        "  * Arbori de decizie, păduri aleatoare [1 pct]\n",
        "  * XGBoost [1 pct]\n",
        "  * SVM [1 pct]\n",
        "  * Naive Bayes [1 pct]\n",
        "\n",
        "**Observație 1:** Pentru KMeans, fiind **nesupervizat**, vom presupune că *nu* se știe că numărul de clustere este 4.\n",
        "\n",
        "**Observație 2:** Algoritmii listați **nu** trebuie implementati de mana (nu obligatoriu). Este permisă utilizarea versiunilor din biblioteci cunoscute (a se vedea exemplele sugerate mai jos).\n",
        "\n",
        "\n",
        "#### **Utilizarea setului de date**\n",
        "În general, majoritatea seturilor de date sunt împărțite în:\n",
        "* setul de antrenare (eng. training dataset) - se rulează algoritmul de învățare pe acest set (eng. fit the model)\n",
        "* setul de validare (eng. validation dataset sau dev set) - se utilizează pentru modificarea hiperparametrilor algoritmului (eng. tunning the hyperparameters)\n",
        "* setul de testare (eng. testing dataset sau holdout dataset) - se rulează pentru testarea finală a algoritmului.\n",
        "\n",
        "În scheletul temei, testul de validare și de testare sunt concatenate.\n",
        "\n",
        "#### **Implementare algoritmi**\n",
        "Dezvoltați clasificatorii *baseline* pe baza fiecărui algoritm din cei listați mai sus. \n",
        "Utilizați implementările default din bibliotecile alese pentru a obține baseline-ul.\n",
        "Folosiți drept features *audio_features* din tabela de *echonest* (sunt deja selectate în schelet).\n",
        "\n",
        "Folosiți set-ul *train* pentru antrenare și *test* pentru testare.\n",
        "\n",
        "#### **Evaluare** [1 pct]\n",
        "Găsiți [aici](https://scikit-learn.org/stable/modules/classes.html#module-sklearn.metrics) o listă cu metrici folosite, in general, pentru evaluarea algoritmilor de machine learning.\n",
        "\n",
        "Pentru fiecare algoritm în parte, raportați **cel puțin** metricile de *accuracy*, *precision*, *recall*, *f-score* și *matricea de confuzie (eng. confusion matrix)*.\n",
        "\n",
        "**Observații KMeans**\n",
        "1. Având în vedere că KMeans nu este un algoritm supervizat, putem să combinăm cele 2 seturi de date (train + testare) pentru a face clusterizarea.\n",
        "2. Faceți rescale *feature-urilor* astfel încât acestea să fie centrate în 0 cu o deviație standard de 1 - [standardizarea datelor](#scrollTo=-tkdMwB5S-as)\n",
        "3. Rulați KMeans pe setul de antrenare utilizând un număr diferit de clustere (eg. 2, 3, 4, 5, 6).\n",
        "4. Verificați utlizând metoda [silhouette](https://scikit-learn.org/stable/auto_examples/cluster/plot_kmeans_silhouette_analysis.html) care este numărul optim de clustere (puteți încerca și cu [elbow](https://www.oreilly.com/library/view/statistics-for-machine/9781788295758/c71ea970-0f3c-4973-8d3a-b09a7a6553c1.xhtml) însă va trebui să creșteți lungmea intervalului de clustere).\n",
        "5. Alegeți numărul optim de clustere și calculați **doar** *randIndex*.\n",
        "6. [Opțional] Puteți analiza coordonatele centroizilor pentru a observa cum diferă genurile muzicale în funcție de *audio_features*. \n",
        "6. [Opțional] Puteți testa să vedeți că piesele din același cluster seamănă utilizând codul de [aici](#scrollTo=fS6s1c-gPyMN).\n",
        "\n",
        "**Observații DecisionTree/RandomForest**\n",
        "\n",
        "Implementarea sugerată este [cea](https://scikit-learn.org/stable/modules/generated/sklearn.ensemble.RandomForestClassifier.html) din biblioteca scikit-learn. \n",
        "\n",
        "**Observații XGBoost**\n",
        "\n",
        "Implementarea sugerată este cea din biblioteca [xgboost](https://xgboost.readthedocs.io/en/latest/python/python_intro.html)\n",
        "\n",
        "**Observații SVM**\n",
        "\n",
        "Implementarea sugerată este [cea](https://scikit-learn.org/stable/modules/svm.html) din biblioteca scikit-learn.\n",
        "\n",
        "**Observații Naive Bayes**\n",
        "\n",
        "Implementarea sugerată este [cea](https://scikit-learn.org/stable/modules/naive_bayes.html) din bibilioteca scikit-learn."
      ]
    },
    {
      "cell_type": "markdown",
      "metadata": {
        "id": "qLlV7Lh2F2ye"
      },
      "source": [
        "#### Metrics Helpers"
      ]
    },
    {
      "cell_type": "code",
      "metadata": {
        "id": "PGhDXC8JF2ye"
      },
      "source": [
        "def rand_index(y_pred, y_truth):\n",
        "    assert len(y_pred) == len(y_truth), \"y_pred has len {}, while y_truth has len {}\".format(len(y_pred), len(y_truth))\n",
        "    n = len(y_pred)\n",
        "    \n",
        "    tp, fp, tn, fn = 0, 0, 0, 0\n",
        "    \n",
        "    for i in range(n):\n",
        "        for j in range(i + 1, n):\n",
        "            if y_pred[i] == y_pred[j] and y_truth[i] == y_truth[j]:\n",
        "                tp += 1\n",
        "            elif y_pred[i] == y_pred[j] and y_truth[i] != y_truth[j]:\n",
        "                fp += 1\n",
        "            elif y_pred[i] != y_pred[j] and y_truth[i] != y_truth[j]:\n",
        "                tn += 1\n",
        "            elif y_pred[i] != y_pred[j] and y_truth[i] == y_truth[j]:\n",
        "                fn += 1\n",
        "    \n",
        "    assert tp + fp + tn + fn != 0, \"The sum tp + fp + tn + fn cannot be equal to 0\"\n",
        "    return (tp + tn) / (tp + fp + tn + fn)\n",
        "\n",
        "# plot confusion matrix\n",
        "def plot_confusion_matrix(y_true, y_pred, colour):\n",
        "    fig_ac = plt.figure(figsize=(8, 8))\n",
        "    resulted_confusion_matrix = confusion_matrix(y_true, y_pred)\n",
        "    sns.heatmap(resulted_confusion_matrix, fmt=\"d\", annot=True, cbar=False, cmap=colour, linewidths=.5, square=True)\n",
        "    plt.close()\n",
        "    display(fig_ac)\n",
        "    print(classification_report(y_true, y_pred))\n",
        "    \n",
        "SUPERVISED_SCORES = {\"accuracy\": accuracy_score, \"recall\": recall_score, \"precision\": precision_score, \"f1\": f1_score}\n",
        "\n",
        "def apply_metric_func(y_true, y_pred, func_list):        \n",
        "    scores = []\n",
        "    d = {}\n",
        "    for func_name in func_list:\n",
        "        func = func_list[func_name]\n",
        "        \n",
        "        if func != accuracy_score:\n",
        "            score_aux = func(y_true, y_pred, average='weighted')\n",
        "        else:\n",
        "            score_aux = func(y_true, y_pred)\n",
        "        \n",
        "        d[func_name] = score_aux\n",
        "    \n",
        "    return d\n",
        "\n",
        "KMEANS_KEY = \"kmeans\"\n",
        "DECISION_TREE_KEY = \"decisionTree\"\n",
        "RANDOM_FOREST_KEY = \"randomForest\"\n",
        "XGBOOST_key = \"xgboost\"\n",
        "SVM_KEY = \"svm\"\n",
        "NAIVE_BAYES_KEY = \"naiveBayes\"\n",
        "\n",
        "SCORES_PER_METHOD = {KMEANS_KEY:{}, DECISION_TREE_KEY:{}, RANDOM_FOREST_KEY:{}, XGBOOST_key:{}, SVM_KEY:{}, NAIVE_BAYES_KEY:{}}"
      ],
      "execution_count": 7,
      "outputs": []
    },
    {
      "cell_type": "markdown",
      "metadata": {
        "id": "5gcc_vwiS1hz"
      },
      "source": [
        "## KMeans"
      ]
    },
    {
      "cell_type": "code",
      "metadata": {
        "colab": {
          "base_uri": "https://localhost:8080/"
        },
        "id": "5XQh_E0xS2b0",
        "outputId": "1b79401c-cd3c-4b8e-8ca8-5c3cded8fc01"
      },
      "source": [
        "def train_simple_kmeans(x_all, y_all, n_clusters_list):    \n",
        "    # normalize on train (and transform with computed mean and std on test)\n",
        "    x_all_normalized = StandardScaler(copy=True, with_mean=True, with_std=True).fit_transform(x_all)\n",
        "    \n",
        "    d = {\"n_clusters\":[], \"silhouetteScore\": [], \"randIndex\":[]}\n",
        "    # run a loop to fit for each n_clusters value from n_clusters_list\n",
        "    for n_clusters in n_clusters_list:\n",
        "        # fit the model\n",
        "        y_predicted = KMeans(n_clusters=n_clusters).fit_predict(x_all_normalized)\n",
        "        \n",
        "        # calculate different metrics\n",
        "        silhouetteScore = silhouette_score(x_all_normalized, y_predicted)\n",
        "        randIndex = rand_index(y_predicted, y_all)\n",
        "        d[\"n_clusters\"].append(n_clusters)\n",
        "        d[\"silhouetteScore\"].append(silhouetteScore)\n",
        "        d[\"randIndex\"].append(randIndex)\n",
        "    \n",
        "    print(\"##### Kmeans simple #####\")\n",
        "    df = pd.DataFrame(d).sort_values(by=[\"silhouetteScore\"], ascending=False)\n",
        "    print(df)\n",
        "    \n",
        "    return df[\"silhouetteScore\"].iloc[0]\n",
        "\n",
        "res = train_simple_kmeans(x_all=X_all, y_all=Y_all, n_clusters_list=[2,3,4,5,6,7])\n",
        "SCORES_PER_METHOD[KMEANS_KEY][\"simple\"] = {\"randIndex\": res} "
      ],
      "execution_count": 8,
      "outputs": [
        {
          "output_type": "stream",
          "text": [
            "##### Kmeans simple #####\n",
            "   n_clusters  silhouetteScore  randIndex\n",
            "2           4         0.187649   0.675601\n",
            "4           6         0.180239   0.713267\n",
            "3           5         0.179403   0.704803\n",
            "0           2         0.172705   0.576723\n",
            "1           3         0.172324   0.671197\n",
            "5           7         0.168116   0.723842\n"
          ],
          "name": "stdout"
        }
      ]
    },
    {
      "cell_type": "markdown",
      "metadata": {
        "id": "_C_Oz30Fn7L4"
      },
      "source": [
        "## Decision Tree and Random Forests"
      ]
    },
    {
      "cell_type": "code",
      "metadata": {
        "colab": {
          "base_uri": "https://localhost:8080/",
          "height": 1000
        },
        "id": "9_a_23tzpTK9",
        "outputId": "a5e20aec-020b-4bb9-90a6-74f7b8cfa448"
      },
      "source": [
        "def train_simple_decisionTree(x_train, y_train, x_test, y_test):\n",
        "    y_test_predicted = DecisionTreeClassifier().fit(x_train, y_train).predict(x_test)\n",
        "    print(\"##### DecisionTree #####\")\n",
        "    plot_confusion_matrix(y_test, y_test_predicted, colour=\"Reds\")\n",
        "    return apply_metric_func(y_true=y_test, y_pred=y_test_predicted, func_list=SUPERVISED_SCORES)\n",
        "\n",
        "def train_simple_randomForest(x_train, y_train, x_test, y_test):\n",
        "    y_test_predicted = RandomForestClassifier().fit(x_train, y_train).predict(x_test)\n",
        "    print(\"##### RandomForest #####\")\n",
        "    plot_confusion_matrix(y_test, y_test_predicted, colour=\"Greens\")\n",
        "    return apply_metric_func(y_true=y_test, y_pred=y_test_predicted, func_list=SUPERVISED_SCORES)\n",
        "\n",
        "decisionTree_res = train_simple_decisionTree(x_train=X_train, y_train=Y_train, x_test=X_validation_test, y_test=Y_validation_test)\n",
        "print(decisionTree_res, \"\\n############################################\\n\")\n",
        "SCORES_PER_METHOD[DECISION_TREE_KEY][\"simple\"] = decisionTree_res \n",
        "\n",
        "randomForest_res = train_simple_randomForest(x_train=X_train, y_train=Y_train, x_test=X_validation_test, y_test=Y_validation_test)\n",
        "print(randomForest_res, \"\\n############################################\\n\")\n",
        "SCORES_PER_METHOD[RANDOM_FOREST_KEY][\"simple\"] = randomForest_res"
      ],
      "execution_count": 9,
      "outputs": [
        {
          "output_type": "stream",
          "text": [
            "##### DecisionTree #####\n"
          ],
          "name": "stdout"
        },
        {
          "output_type": "display_data",
          "data": {
            "image/png": "[encoded data removed]",
            "text/plain": [
              "<Figure size 576x576 with 1 Axes>"
            ]
          },
          "metadata": {
            "tags": []
          }
        },
        {
          "output_type": "stream",
          "text": [
            "              precision    recall  f1-score   support\n",
            "\n",
            "           0       0.51      0.48      0.49       100\n",
            "           1       0.65      0.66      0.66       100\n",
            "           2       0.61      0.66      0.63       100\n",
            "           3       0.49      0.47      0.48       100\n",
            "\n",
            "    accuracy                           0.57       400\n",
            "   macro avg       0.56      0.57      0.57       400\n",
            "weighted avg       0.56      0.57      0.57       400\n",
            "\n",
            "{'accuracy': 0.5675, 'recall': 0.5675, 'precision': 0.5647424834226542, 'f1': 0.5656635849094608} \n",
            "############################################\n",
            "\n",
            "##### RandomForest #####\n"
          ],
          "name": "stdout"
        },
        {
          "output_type": "display_data",
          "data": {
            "image/png": "[encoded data removed]",
            "text/plain": [
              "<Figure size 576x576 with 1 Axes>"
            ]
          },
          "metadata": {
            "tags": []
          }
        },
        {
          "output_type": "stream",
          "text": [
            "              precision    recall  f1-score   support\n",
            "\n",
            "           0       0.71      0.65      0.68       100\n",
            "           1       0.76      0.81      0.78       100\n",
            "           2       0.74      0.85      0.79       100\n",
            "           3       0.71      0.62      0.66       100\n",
            "\n",
            "    accuracy                           0.73       400\n",
            "   macro avg       0.73      0.73      0.73       400\n",
            "weighted avg       0.73      0.73      0.73       400\n",
            "\n",
            "{'accuracy': 0.7325, 'recall': 0.7325, 'precision': 0.7307672932559087, 'f1': 0.7292590616500405} \n",
            "############################################\n",
            "\n"
          ],
          "name": "stdout"
        }
      ]
    },
    {
      "cell_type": "markdown",
      "metadata": {
        "id": "9GOaC0iopuAb"
      },
      "source": [
        "## XGBoost"
      ]
    },
    {
      "cell_type": "code",
      "metadata": {
        "colab": {
          "base_uri": "https://localhost:8080/",
          "height": 670
        },
        "id": "Yu5IW7s3pzB9",
        "outputId": "f604ed36-2c31-4f5e-e358-fe68f58266de"
      },
      "source": [
        "def train_simple_xgboost(x_train, y_train, x_test, y_test):\n",
        "    y_test_predicted = xgb.XGBClassifier().fit(x_train, y_train).predict(x_test)\n",
        "    plot_confusion_matrix(y_test, y_test_predicted, colour=\"Blues\")\n",
        "    return apply_metric_func(y_true=y_test, y_pred=y_test_predicted, func_list=SUPERVISED_SCORES)    \n",
        "    \n",
        "xgboost_res = train_simple_xgboost(x_train=X_train, y_train=Y_train, x_test=X_validation_test, y_test=Y_validation_test)\n",
        "SCORES_PER_METHOD[XGBOOST_key][\"simple\"] = xgboost_res"
      ],
      "execution_count": 10,
      "outputs": [
        {
          "output_type": "display_data",
          "data": {
            "image/png": "[encoded data removed]",
            "text/plain": [
              "<Figure size 576x576 with 1 Axes>"
            ]
          },
          "metadata": {
            "tags": []
          }
        },
        {
          "output_type": "stream",
          "text": [
            "              precision    recall  f1-score   support\n",
            "\n",
            "           0       0.73      0.66      0.69       100\n",
            "           1       0.75      0.79      0.77       100\n",
            "           2       0.74      0.86      0.79       100\n",
            "           3       0.70      0.61      0.65       100\n",
            "\n",
            "    accuracy                           0.73       400\n",
            "   macro avg       0.73      0.73      0.73       400\n",
            "weighted avg       0.73      0.73      0.73       400\n",
            "\n"
          ],
          "name": "stdout"
        }
      ]
    },
    {
      "cell_type": "markdown",
      "metadata": {
        "id": "Kfz0i0ggsBcQ"
      },
      "source": [
        "## SVM"
      ]
    },
    {
      "cell_type": "code",
      "metadata": {
        "colab": {
          "base_uri": "https://localhost:8080/",
          "height": 670
        },
        "id": "LKdHDfursCxW",
        "outputId": "2c4c6a62-7512-45a6-cf3c-6e278f6f41a0"
      },
      "source": [
        "def train_simple_svm(x_train, y_train, x_test, y_test):\n",
        "    y_test_predicted = svm.SVC().fit(x_train, y_train).predict(x_test)\n",
        "    plot_confusion_matrix(y_test, y_test_predicted, colour=\"Blues\")\n",
        "    return apply_metric_func(y_true=y_test, y_pred=y_test_predicted, func_list=SUPERVISED_SCORES)    \n",
        "    \n",
        "svm_res = train_simple_svm(x_train=X_train, y_train=Y_train, x_test=X_validation_test, y_test=Y_validation_test)\n",
        "SCORES_PER_METHOD[SVM_KEY][\"simple\"] = svm_res"
      ],
      "execution_count": 11,
      "outputs": [
        {
          "output_type": "display_data",
          "data": {
            "image/png": "[encoded data removed]",
            "text/plain": [
              "<Figure size 576x576 with 1 Axes>"
            ]
          },
          "metadata": {
            "tags": []
          }
        },
        {
          "output_type": "stream",
          "text": [
            "              precision    recall  f1-score   support\n",
            "\n",
            "           0       0.32      0.54      0.40       100\n",
            "           1       0.14      0.11      0.12       100\n",
            "           2       0.29      0.38      0.33       100\n",
            "           3       0.23      0.05      0.08       100\n",
            "\n",
            "    accuracy                           0.27       400\n",
            "   macro avg       0.24      0.27      0.23       400\n",
            "weighted avg       0.24      0.27      0.23       400\n",
            "\n"
          ],
          "name": "stdout"
        }
      ]
    },
    {
      "cell_type": "markdown",
      "metadata": {
        "id": "NL3XtFmLF2yg"
      },
      "source": [
        "## Naive Bayes"
      ]
    },
    {
      "cell_type": "code",
      "metadata": {
        "colab": {
          "base_uri": "https://localhost:8080/",
          "height": 670
        },
        "id": "JZNpSLE3F2yg",
        "outputId": "e91e407b-1b30-4ba3-ef73-7e51e3321c9a"
      },
      "source": [
        "def train_simple_naiveBayes(x_train, y_train, x_test, y_test):\n",
        "    y_test_predicted = GaussianNB().fit(x_train, y_train).predict(x_test)\n",
        "    plot_confusion_matrix(y_test, y_test_predicted, colour=\"Blues\")\n",
        "    return apply_metric_func(y_true=y_test, y_pred=y_test_predicted, func_list=SUPERVISED_SCORES)  \n",
        "\n",
        "naiveBayes_res = train_simple_naiveBayes(x_train=X_train, y_train=Y_train, x_test=X_validation_test, y_test=Y_validation_test)\n",
        "SCORES_PER_METHOD[NAIVE_BAYES_KEY][\"simple\"] = naiveBayes_res"
      ],
      "execution_count": 12,
      "outputs": [
        {
          "output_type": "display_data",
          "data": {
            "image/png": "[encoded data removed]",
            "text/plain": [
              "<Figure size 576x576 with 1 Axes>"
            ]
          },
          "metadata": {
            "tags": []
          }
        },
        {
          "output_type": "stream",
          "text": [
            "              precision    recall  f1-score   support\n",
            "\n",
            "           0       0.67      0.55      0.60       100\n",
            "           1       0.77      0.75      0.76       100\n",
            "           2       0.72      0.87      0.79       100\n",
            "           3       0.64      0.63      0.63       100\n",
            "\n",
            "    accuracy                           0.70       400\n",
            "   macro avg       0.70      0.70      0.70       400\n",
            "weighted avg       0.70      0.70      0.70       400\n",
            "\n"
          ],
          "name": "stdout"
        }
      ]
    },
    {
      "cell_type": "markdown",
      "metadata": {
        "id": "xwYtvPlnFBkV"
      },
      "source": [
        "### 4.2. Metode de îmbunătățire și evaluare comparativă [4pct]\n",
        "\n",
        "Pentru fiecare algoritm, explorați metode prin care să îmbunătățiți performanțele de la pasul precedent (cel de realizarea a baseline-ului).\n",
        "\n",
        "**Îmbunătățire algoritmi** [2 pct]\n",
        "\n",
        "Aveți în vedere următoarea listă de idei (și nu numai):\n",
        "* adăugarea de mai multe feature-uri (momentan la baseline s-au folosit doar *audio_features*)\n",
        "* [preprocesarea datelor](https://scikit-learn.org/stable/modules/preprocessing.html#preprocessing) (eng. data preprocessing)\n",
        "* [selectarea atributelor](https://scikit-learn.org/stable/modules/feature_selection.html) (eng. feature selection)\n",
        "* modificarea hiperparametrilor fiecărui algoritm (e.g. tipul de kernel la SVM, coeficienți de regularizare, numărul de arbori în RandomForest, adâncimea arborilor în RandomForest)\n",
        "    * **Atenție!**, exemplu de **AȘA NU**: rularea cu un număr maxim de 10 iterații la baseline și 100 de iterații la modelul mai bun.\n",
        "\n",
        "În *fma_song_info.zip* există și un fișier *features.csv* -- detalii despre acesta se găsesc în repository-ul menționat în secțiunea [Set de date](#scrollTo=67UlrcAdqj3N).\n",
        "\n",
        "**Evaluare îmbunătățiri** [2 pct]\n",
        "\n",
        "* Evaluați variantele îmbunătățite ale algoritmilor, folosind 5-fold [cross-validation](https://machinelearningmastery.com/k-fold-cross-validation/). Folosiți aceleași metrici ca în cazul baseline-ului.  **Atenție!** Pentru cross-validation trebuie să vă refaceti împartirea in train/test a setului de date.\n",
        "* Realizați grafice în care să arătați analiza intra-algoritm a performanței îmbunătățirii (e.g. folosiți un bar chart pentru a compara accuracy-ul variantei baseline a RandomForest cu cea a variantei îmbunătățite).\n",
        "* Realizați grafice în care să arătați analiza inter-algoritm a performanțelor. Faceți câte un grafic per metrică (e.g. accuracy, precision, recall) în care să încludeți valorile obținute de fiecare algoritm îmbunătățit în parte. \n",
        "* Redactați, pe seama graficelor, o analiză a acestora, evidențiind avantajele și dezavantajele fiecărui algoritm implementat."
      ]
    },
    {
      "cell_type": "code",
      "metadata": {
        "id": "E7t02xIht9rK"
      },
      "source": [
        "## Add more features"
      ],
      "execution_count": 13,
      "outputs": []
    },
    {
      "cell_type": "code",
      "metadata": {
        "colab": {
          "base_uri": "https://localhost:8080/"
        },
        "id": "piVHoVB5F2yh",
        "outputId": "bf8b895a-bd73-4ccd-8312-74d292b4095d"
      },
      "source": [
        "def extract_features_from_echonest(echonest, subset):\n",
        "    return np.concatenate([echonest.loc[subset, ('echonest', 'audio_features')], echonest.loc[subset, ('echonest', 'temporal_features')], echonest.loc[subset, ('echonest', 'social_features')]], axis=1)\n",
        "\n",
        "def extract_features_from_features(features, subset):\n",
        "    return np.asarray(features.loc[subset])\n",
        "\n",
        "def combine_features(features, echonest, subset):\n",
        "    return np.concatenate([extract_features_from_features(features, subset), extract_features_from_echonest(echonest, subset)], axis=1)\n",
        "    \n",
        "\n",
        "# concat audio_features + temporal_features + social_features\n",
        "X_train = combine_features(features, echonest, TRAIN_MASK)\n",
        "X_validation = combine_features(features, echonest, VALIDATION_MASK)\n",
        "X_test = combine_features(features, echonest, TEST_MASK)\n",
        "X_validation_test = np.concatenate([X_validation, X_test], axis=0)\n",
        "X_all = np.concatenate([X_train, X_validation, X_test], axis=0)\n",
        "     \n",
        "# select the labels and convert to idx\n",
        "label_to_idx_mapping = {\"Rock\":0, \"Hip-Hop\":1, \"Folk\":2, \"Electronic\":3}\n",
        "\n",
        "Y_train = tracks.loc[TRAIN_MASK, ('track', 'genre_top')]\n",
        "Y_validation = tracks.loc[VALIDATION_MASK, ('track', 'genre_top')]\n",
        "Y_test = tracks.loc[TEST_MASK, ('track', 'genre_top')]\n",
        "\n",
        "Y_train = np.asarray([label_to_idx_mapping[x] for x in Y_train])\n",
        "Y_validation = np.asarray([label_to_idx_mapping[x] for x in Y_validation])\n",
        "Y_test = np.asarray([label_to_idx_mapping[x] for x in Y_test])\n",
        "Y_validation_test = np.concatenate([Y_validation, Y_test], axis=0)\n",
        "Y_all = np.concatenate([Y_train, Y_validation, Y_test], axis=0)\n",
        "\n",
        "print(\"X_train shape: {}, Y_train_shape: {}\".format(X_train.shape, Y_train.shape))\n",
        "print(\"X_validation shape: {}, Y_validation shape: {}\".format(X_validation.shape, Y_validation.shape))\n",
        "print(\"X_test shape: {}, Y_test shape: {}\".format(X_test.shape, Y_test.shape))\n",
        "print(\"X_validation_test shape: {}, Y_validation_test shape: {}\".format(X_validation_test.shape, Y_validation_test.shape))\n",
        "print(\"X_all shape: {}, Y_all shape: {}\".format(X_all.shape, Y_all.shape))"
      ],
      "execution_count": 14,
      "outputs": [
        {
          "output_type": "stream",
          "text": [
            "X_train shape: (2000, 755), Y_train_shape: (2000,)\n",
            "X_validation shape: (225, 755), Y_validation shape: (225,)\n",
            "X_test shape: (175, 755), Y_test shape: (175,)\n",
            "X_validation_test shape: (400, 755), Y_validation_test shape: (400,)\n",
            "X_all shape: (2400, 755), Y_all shape: (2400,)\n"
          ],
          "name": "stdout"
        }
      ]
    },
    {
      "cell_type": "markdown",
      "metadata": {
        "id": "L19zOdQXF2yh"
      },
      "source": [
        "## Select K best Features (k=100)"
      ]
    },
    {
      "cell_type": "code",
      "metadata": {
        "colab": {
          "base_uri": "https://localhost:8080/"
        },
        "id": "ae628y5SF2yh",
        "outputId": "378831c7-6e0f-42cc-c201-f7010b789344"
      },
      "source": [
        "selectKBest = SelectKBest(k=100)\n",
        "selectKBest.fit(X_train, Y_train)\n",
        "\n",
        "X_train = selectKBest.transform(X_train)\n",
        "X_validation = selectKBest.transform(X_validation)\n",
        "X_test = selectKBest.transform(X_test)\n",
        "X_validation_test = selectKBest.transform(X_validation_test)\n",
        "X_all = selectKBest.transform(X_all)\n",
        "\n",
        "print(\"X_train shape: {}, Y_train_shape: {}\".format(X_train.shape, Y_train.shape))\n",
        "print(\"X_validation shape: {}, Y_validation shape: {}\".format(X_validation.shape, Y_validation.shape))\n",
        "print(\"X_test shape: {}, Y_test shape: {}\".format(X_test.shape, Y_test.shape))\n",
        "print(\"X_validation_test shape: {}, Y_validation_test shape: {}\".format(X_validation_test.shape, Y_validation_test.shape))\n",
        "print(\"X_all shape: {}, Y_all shape: {}\".format(X_all.shape, Y_all.shape))"
      ],
      "execution_count": 15,
      "outputs": [
        {
          "output_type": "stream",
          "text": [
            "X_train shape: (2000, 100), Y_train_shape: (2000,)\n",
            "X_validation shape: (225, 100), Y_validation shape: (225,)\n",
            "X_test shape: (175, 100), Y_test shape: (175,)\n",
            "X_validation_test shape: (400, 100), Y_validation_test shape: (400,)\n",
            "X_all shape: (2400, 100), Y_all shape: (2400,)\n"
          ],
          "name": "stdout"
        },
        {
          "output_type": "stream",
          "text": [
            "/usr/local/lib/python3.7/dist-packages/sklearn/feature_selection/_univariate_selection.py:114: UserWarning: Features [180 183 184 189] are constant.\n",
            "  UserWarning)\n",
            "/usr/local/lib/python3.7/dist-packages/sklearn/feature_selection/_univariate_selection.py:115: RuntimeWarning: invalid value encountered in true_divide\n",
            "  f = msb / msw\n"
          ],
          "name": "stderr"
        }
      ]
    },
    {
      "cell_type": "markdown",
      "metadata": {
        "id": "earbmPbUF2yh"
      },
      "source": [
        "## Add polynomial features (degree=2)"
      ]
    },
    {
      "cell_type": "code",
      "metadata": {
        "colab": {
          "base_uri": "https://localhost:8080/",
          "height": 120
        },
        "id": "PPU5JYiEF2yh",
        "outputId": "7f2cd505-ca7a-4a87-fb3f-b074da3f01bf"
      },
      "source": [
        "'''\n",
        "from sklearn.preprocessing import PolynomialFeatures\n",
        "\n",
        "poly = PolynomialFeatures(2)\n",
        "\n",
        "X_train = poly.fit_transform(X_train)\n",
        "X_validation = poly.fit_transform(X_validation)\n",
        "X_test = poly.fit_transform(X_test)\n",
        "X_validation_test = poly.fit_transform(X_validation_test)\n",
        "X_all = poly.fit_transform(X_all)\n",
        "\n",
        "print(\"X_train shape: {}, Y_train_shape: {}\".format(X_train.shape, Y_train.shape))\n",
        "print(\"X_validation shape: {}, Y_validation shape: {}\".format(X_validation.shape, Y_validation.shape))\n",
        "print(\"X_test shape: {}, Y_test shape: {}\".format(X_test.shape, Y_test.shape))\n",
        "print(\"X_validation_test shape: {}, Y_validation_test shape: {}\".format(X_validation_test.shape, Y_validation_test.shape))\n",
        "print(\"X_all shape: {}, Y_all shape: {}\".format(X_all.shape, Y_all.shape))\n",
        "'''"
      ],
      "execution_count": 16,
      "outputs": [
        {
          "output_type": "execute_result",
          "data": {
            "application/vnd.google.colaboratory.intrinsic+json": {
              "type": "string"
            },
            "text/plain": [
              "'\\nfrom sklearn.preprocessing import PolynomialFeatures\\n\\npoly = PolynomialFeatures(2)\\n\\nX_train = poly.fit_transform(X_train)\\nX_validation = poly.fit_transform(X_validation)\\nX_test = poly.fit_transform(X_test)\\nX_validation_test = poly.fit_transform(X_validation_test)\\nX_all = poly.fit_transform(X_all)\\n\\nprint(\"X_train shape: {}, Y_train_shape: {}\".format(X_train.shape, Y_train.shape))\\nprint(\"X_validation shape: {}, Y_validation shape: {}\".format(X_validation.shape, Y_validation.shape))\\nprint(\"X_test shape: {}, Y_test shape: {}\".format(X_test.shape, Y_test.shape))\\nprint(\"X_validation_test shape: {}, Y_validation_test shape: {}\".format(X_validation_test.shape, Y_validation_test.shape))\\nprint(\"X_all shape: {}, Y_all shape: {}\".format(X_all.shape, Y_all.shape))\\n'"
            ]
          },
          "metadata": {
            "tags": []
          },
          "execution_count": 16
        }
      ]
    },
    {
      "cell_type": "markdown",
      "metadata": {
        "id": "NnIi6iMoF2yi"
      },
      "source": [
        "## Normalize the data"
      ]
    },
    {
      "cell_type": "code",
      "metadata": {
        "colab": {
          "base_uri": "https://localhost:8080/"
        },
        "id": "OHQTupcpF2yi",
        "outputId": "a479939a-7e16-4202-b8e1-c9090d8ecd1f"
      },
      "source": [
        "scaler = StandardScaler(copy=True, with_mean=True, with_std=True)\n",
        "scaler = scaler.fit(X_train)\n",
        "\n",
        "X_train = scaler.transform(X_train)\n",
        "X_validation = scaler.transform(X_validation)\n",
        "X_test = scaler.transform(X_test)\n",
        "X_validation_test = scaler.transform(X_validation_test)\n",
        "X_all = scaler.transform(X_all)\n",
        "\n",
        "print(\"X_train shape: {}, Y_train_shape: {}\".format(X_train.shape, Y_train.shape))\n",
        "print(\"X_validation shape: {}, Y_validation shape: {}\".format(X_validation.shape, Y_validation.shape))\n",
        "print(\"X_test shape: {}, Y_test shape: {}\".format(X_test.shape, Y_test.shape))\n",
        "print(\"X_validation_test shape: {}, Y_validation_test shape: {}\".format(X_validation_test.shape, Y_validation_test.shape))\n",
        "print(\"X_all shape: {}, Y_all shape: {}\".format(X_all.shape, Y_all.shape))"
      ],
      "execution_count": 17,
      "outputs": [
        {
          "output_type": "stream",
          "text": [
            "X_train shape: (2000, 100), Y_train_shape: (2000,)\n",
            "X_validation shape: (225, 100), Y_validation shape: (225,)\n",
            "X_test shape: (175, 100), Y_test shape: (175,)\n",
            "X_validation_test shape: (400, 100), Y_validation_test shape: (400,)\n",
            "X_all shape: (2400, 100), Y_all shape: (2400,)\n"
          ],
          "name": "stdout"
        }
      ]
    },
    {
      "cell_type": "markdown",
      "metadata": {
        "id": "SKg6aUR5F2yi"
      },
      "source": [
        "## Kmeans optimized"
      ]
    },
    {
      "cell_type": "code",
      "metadata": {
        "colab": {
          "base_uri": "https://localhost:8080/"
        },
        "id": "H0OucsGXF2yi",
        "outputId": "49fd0e72-3ac7-4df7-8cc5-207b0691e354"
      },
      "source": [
        "def train_optimized_kmeans(x_all, y_all):\n",
        "    parameters = {\"n_clusters\": [2, 3, 4, 5, 6],\n",
        "                  \"max_iter\": [10000],\n",
        "                  \"init\": [\"k-means++\", \"random\"],\n",
        "                  \"algorithm\": [\"auto\", \"full\", \"elkan\"]\n",
        "                  }\n",
        "\n",
        "    grid_search = GridSearchCV(KMeans(),\n",
        "                               parameters,\n",
        "                               refit=True,\n",
        "                               cv=5,\n",
        "                               scoring='adjusted_rand_score').fit(x_all, y_all)\n",
        "    best_model = grid_search.best_estimator_\n",
        "    y_predicted_all = best_model.predict(x_all)\n",
        "    randIndex = rand_index(y_pred=y_predicted_all, y_truth=y_all)\n",
        "    print(\"BestModel: {}\".format(best_model))\n",
        "    print(\"RandIndex: {}\".format(randIndex))\n",
        "    return randIndex\n",
        "\n",
        "kmeans_res = train_optimized_kmeans(x_all=X_all, y_all=Y_all)\n",
        "SCORES_PER_METHOD[KMEANS_KEY][\"optimized\"] = {\"randIndex\": kmeans_res}"
      ],
      "execution_count": 18,
      "outputs": [
        {
          "output_type": "stream",
          "text": [
            "BestModel: KMeans(algorithm='full', copy_x=True, init='random', max_iter=10000,\n",
            "       n_clusters=3, n_init=10, n_jobs=None, precompute_distances='auto',\n",
            "       random_state=None, tol=0.0001, verbose=0)\n",
            "RandIndex: 0.7249378213144366\n"
          ],
          "name": "stdout"
        }
      ]
    },
    {
      "cell_type": "markdown",
      "metadata": {
        "id": "3QsFm5dSF2yi"
      },
      "source": [
        "## Decision Tree and Random Forests optimized"
      ]
    },
    {
      "cell_type": "code",
      "metadata": {
        "colab": {
          "base_uri": "https://localhost:8080/",
          "height": 1000
        },
        "id": "ra5_scYVF2yj",
        "outputId": "8151c312-adeb-4d9c-9c77-ca9e5dd237b0"
      },
      "source": [
        "def train_optimized_decisionTree(x_train, y_train, x_test, y_test):\n",
        "    params = {\n",
        "    'max_depth': [None, 3, 5],\n",
        "    'min_samples_split': [2, 5],\n",
        "    'criterion':['gini', 'entropy'],\n",
        "    'min_samples_leaf': [1, 3]\n",
        "    }\n",
        "\n",
        "    gridsearch = GridSearchCV(DecisionTreeClassifier(), params, refit=True, cv=5, scoring='balanced_accuracy').fit(x_train, y_train)\n",
        "    best_model = gridsearch.best_estimator_\n",
        "    y_test_predicted = best_model.predict(x_test)\n",
        "    \n",
        "    print(\"##### DecisionTree Optimized #####\")\n",
        "    print(\"Best model {}\".format(best_model))\n",
        "    plot_confusion_matrix(y_test, y_test_predicted, colour=\"Reds\")\n",
        "    return apply_metric_func(y_true=y_test, y_pred=y_test_predicted, func_list=SUPERVISED_SCORES)\n",
        "\n",
        "def train_optimized_randomForest(x_train, y_train, x_test, y_test):\n",
        "    params = {\n",
        "    'n_estimators': [30, 70, 150, 300],\n",
        "    'min_samples_split': [2, 5],\n",
        "    'max_depth': [None, 3, 5],\n",
        "    'min_samples_leaf': [1, 3],\n",
        "    'criterion':['gini', 'entropy']\n",
        "    }\n",
        "\n",
        "    gridsearch = GridSearchCV(RandomForestClassifier(), params, refit=True, cv=5, scoring='balanced_accuracy').fit(x_train, y_train)\n",
        "    best_model = gridsearch.best_estimator_\n",
        "    y_test_predicted = best_model.predict(x_test)\n",
        "    \n",
        "    print(\"##### RandomForest Optimized #####\")\n",
        "    print(\"Best model {}\".format(best_model))\n",
        "    plot_confusion_matrix(y_test, y_test_predicted, colour=\"Oranges\")\n",
        "    return apply_metric_func(y_true=y_test, y_pred=y_test_predicted, func_list=SUPERVISED_SCORES)\n",
        "\n",
        "\n",
        "decisionTree_res = train_optimized_decisionTree(x_train=X_train, y_train=Y_train, x_test=X_validation_test, y_test=Y_validation_test)\n",
        "print(decisionTree_res, \"\\n############################################\\n\")\n",
        "SCORES_PER_METHOD[DECISION_TREE_KEY][\"optimized\"] = decisionTree_res\n",
        "\n",
        "randomForest_res = train_optimized_randomForest(x_train=X_train, y_train=Y_train, x_test=X_validation_test, y_test=Y_validation_test)\n",
        "print(randomForest_res, \"\\n############################################\\n\")\n",
        "SCORES_PER_METHOD[RANDOM_FOREST_KEY][\"optimized\"] = randomForest_res"
      ],
      "execution_count": 19,
      "outputs": [
        {
          "output_type": "stream",
          "text": [
            "##### DecisionTree Optimized #####\n",
            "Best model DecisionTreeClassifier(ccp_alpha=0.0, class_weight=None, criterion='gini',\n",
            "                       max_depth=5, max_features=None, max_leaf_nodes=None,\n",
            "                       min_impurity_decrease=0.0, min_impurity_split=None,\n",
            "                       min_samples_leaf=1, min_samples_split=5,\n",
            "                       min_weight_fraction_leaf=0.0, presort='deprecated',\n",
            "                       random_state=None, splitter='best')\n"
          ],
          "name": "stdout"
        },
        {
          "output_type": "display_data",
          "data": {
            "image/png": "[encoded data removed]",
            "text/plain": [
              "<Figure size 576x576 with 1 Axes>"
            ]
          },
          "metadata": {
            "tags": []
          }
        },
        {
          "output_type": "stream",
          "text": [
            "              precision    recall  f1-score   support\n",
            "\n",
            "           0       0.75      0.69      0.72       100\n",
            "           1       0.67      0.70      0.69       100\n",
            "           2       0.71      0.87      0.78       100\n",
            "           3       0.72      0.59      0.65       100\n",
            "\n",
            "    accuracy                           0.71       400\n",
            "   macro avg       0.71      0.71      0.71       400\n",
            "weighted avg       0.71      0.71      0.71       400\n",
            "\n",
            "{'accuracy': 0.7125, 'recall': 0.7125, 'precision': 0.7139259680743087, 'f1': 0.7092899854848385} \n",
            "############################################\n",
            "\n",
            "##### RandomForest Optimized #####\n",
            "Best model RandomForestClassifier(bootstrap=True, ccp_alpha=0.0, class_weight=None,\n",
            "                       criterion='gini', max_depth=None, max_features='auto',\n",
            "                       max_leaf_nodes=None, max_samples=None,\n",
            "                       min_impurity_decrease=0.0, min_impurity_split=None,\n",
            "                       min_samples_leaf=3, min_samples_split=2,\n",
            "                       min_weight_fraction_leaf=0.0, n_estimators=70,\n",
            "                       n_jobs=None, oob_score=False, random_state=None,\n",
            "                       verbose=0, warm_start=False)\n"
          ],
          "name": "stdout"
        },
        {
          "output_type": "display_data",
          "data": {
            "image/png": "[encoded data removed]",
            "text/plain": [
              "<Figure size 576x576 with 1 Axes>"
            ]
          },
          "metadata": {
            "tags": []
          }
        },
        {
          "output_type": "stream",
          "text": [
            "              precision    recall  f1-score   support\n",
            "\n",
            "           0       0.86      0.73      0.79       100\n",
            "           1       0.76      0.84      0.80       100\n",
            "           2       0.81      0.92      0.86       100\n",
            "           3       0.80      0.73      0.76       100\n",
            "\n",
            "    accuracy                           0.81       400\n",
            "   macro avg       0.81      0.80      0.80       400\n",
            "weighted avg       0.81      0.81      0.80       400\n",
            "\n",
            "{'accuracy': 0.805, 'recall': 0.805, 'precision': 0.807918809776395, 'f1': 0.8033500447651253} \n",
            "############################################\n",
            "\n"
          ],
          "name": "stdout"
        }
      ]
    },
    {
      "cell_type": "markdown",
      "metadata": {
        "id": "zWE7q5hFF2yj"
      },
      "source": [
        "## XGBoost optimized"
      ]
    },
    {
      "cell_type": "code",
      "metadata": {
        "colab": {
          "base_uri": "https://localhost:8080/",
          "height": 806
        },
        "id": "AcnMUiBWF2yj",
        "outputId": "4a61f9a0-75e8-480a-87c5-add7e158c454"
      },
      "source": [
        "def train_optimized_xgboost(x_train, y_train, x_test, y_test):\n",
        "    params = {\n",
        "    'max_depth': [3, 5],\n",
        "    'eta': [0.01, 0.1, 0.5, 0.75, 1.0, 5.0, 10.],\n",
        "    'num_class': [4]}\n",
        "\n",
        "    gridsearch = GridSearchCV(xgb.XGBClassifier(), params, refit=True, cv=5, scoring='balanced_accuracy').fit(x_train, y_train)\n",
        "    best_model = gridsearch.best_estimator_\n",
        "    y_test_predicted = best_model.predict(x_test)\n",
        "    \n",
        "    print(\"##### XGBoost Optimized #####\")\n",
        "    print(\"Best model {}\".format(best_model))\n",
        "    plot_confusion_matrix(y_test, y_test_predicted, colour=\"Reds\")\n",
        "    return apply_metric_func(y_true=y_test, y_pred=y_test_predicted, func_list=SUPERVISED_SCORES)\n",
        "\n",
        "xgboost_res = train_optimized_xgboost(x_train=X_train, y_train=Y_train, x_test=X_validation_test, y_test=Y_validation_test)\n",
        "SCORES_PER_METHOD[XGBOOST_key][\"optimized\"] = xgboost_res"
      ],
      "execution_count": 23,
      "outputs": [
        {
          "output_type": "stream",
          "text": [
            "##### XGBoost Optimized #####\n",
            "Best model XGBClassifier(base_score=0.5, booster='gbtree', colsample_bylevel=1,\n",
            "              colsample_bynode=1, colsample_bytree=1, eta=0.01, gamma=0,\n",
            "              learning_rate=0.1, max_delta_step=0, max_depth=5,\n",
            "              min_child_weight=1, missing=None, n_estimators=100, n_jobs=1,\n",
            "              nthread=None, num_class=4, objective='multi:softprob',\n",
            "              random_state=0, reg_alpha=0, reg_lambda=1, scale_pos_weight=1,\n",
            "              seed=None, silent=None, subsample=1, verbosity=1)\n"
          ],
          "name": "stdout"
        },
        {
          "output_type": "display_data",
          "data": {
            "image/png": "[encoded data removed]",
            "text/plain": [
              "<Figure size 576x576 with 1 Axes>"
            ]
          },
          "metadata": {
            "tags": []
          }
        },
        {
          "output_type": "stream",
          "text": [
            "              precision    recall  f1-score   support\n",
            "\n",
            "           0       0.87      0.76      0.81       100\n",
            "           1       0.80      0.85      0.83       100\n",
            "           2       0.83      0.92      0.87       100\n",
            "           3       0.84      0.81      0.83       100\n",
            "\n",
            "    accuracy                           0.83       400\n",
            "   macro avg       0.84      0.83      0.83       400\n",
            "weighted avg       0.84      0.83      0.83       400\n",
            "\n"
          ],
          "name": "stdout"
        }
      ]
    },
    {
      "cell_type": "markdown",
      "metadata": {
        "id": "5YqYGPnLF2yj"
      },
      "source": [
        "## SVM optimized"
      ]
    },
    {
      "cell_type": "code",
      "metadata": {
        "colab": {
          "base_uri": "https://localhost:8080/",
          "height": 755
        },
        "id": "adXrHn9VF2yj",
        "outputId": "0a4ed2bc-d121-4c8a-bdb5-45e9c6f1c8d5"
      },
      "source": [
        "def train_optimized_svm(x_train, y_train, x_test, y_test):\n",
        "    params = {'C':[0.1, 0.5, 0.75, 1.0, 5.0],\n",
        "              'kernel':['linear', 'poly', 'rbf'], \n",
        "              'degree':[2, 4],\n",
        "              'gamma': ['scale', 'auto']}\n",
        "\n",
        "    gridsearch = GridSearchCV(svm.SVC(), params, refit=True, cv=5, scoring='balanced_accuracy').fit(x_train, y_train)\n",
        "    best_model = gridsearch.best_estimator_\n",
        "    y_test_predicted = best_model.predict(x_test)\n",
        "    \n",
        "    print(\"##### SVM Optimized #####\")\n",
        "    print(\"Best model {}\".format(best_model))\n",
        "    plot_confusion_matrix(y_test, y_test_predicted, colour=\"Reds\")\n",
        "    return apply_metric_func(y_true=y_test, y_pred=y_test_predicted, func_list=SUPERVISED_SCORES)\n",
        "\n",
        "svm_res = train_optimized_svm(x_train=X_train, y_train=Y_train, x_test=X_validation_test, y_test=Y_validation_test)\n",
        "SCORES_PER_METHOD[SVM_KEY][\"optimized\"] = svm_res"
      ],
      "execution_count": 25,
      "outputs": [
        {
          "output_type": "stream",
          "text": [
            "##### SVM Optimized #####\n",
            "Best model SVC(C=1.0, break_ties=False, cache_size=200, class_weight=None, coef0=0.0,\n",
            "    decision_function_shape='ovr', degree=2, gamma='scale', kernel='rbf',\n",
            "    max_iter=-1, probability=False, random_state=None, shrinking=True,\n",
            "    tol=0.001, verbose=False)\n"
          ],
          "name": "stdout"
        },
        {
          "output_type": "display_data",
          "data": {
            "image/png": "[encoded data removed]",
            "text/plain": [
              "<Figure size 576x576 with 1 Axes>"
            ]
          },
          "metadata": {
            "tags": []
          }
        },
        {
          "output_type": "stream",
          "text": [
            "              precision    recall  f1-score   support\n",
            "\n",
            "           0       0.88      0.79      0.83       100\n",
            "           1       0.82      0.87      0.84       100\n",
            "           2       0.86      0.88      0.87       100\n",
            "           3       0.81      0.83      0.82       100\n",
            "\n",
            "    accuracy                           0.84       400\n",
            "   macro avg       0.84      0.84      0.84       400\n",
            "weighted avg       0.84      0.84      0.84       400\n",
            "\n"
          ],
          "name": "stdout"
        }
      ]
    },
    {
      "cell_type": "markdown",
      "metadata": {
        "id": "6VodrOz9F2yk"
      },
      "source": [
        "## Naive Bayes optimized"
      ]
    },
    {
      "cell_type": "code",
      "metadata": {
        "colab": {
          "base_uri": "https://localhost:8080/",
          "height": 704
        },
        "id": "5yg_zPtEF2yk",
        "outputId": "44320be9-57a3-40d9-932b-d0e9f5a4ceb4"
      },
      "source": [
        "def train_optimized_naiveBayes(x_train, y_train, x_test, y_test):\n",
        "    params = {'var_smoothing': [1e-09, 1e-05, 1e-03, 1.0]}\n",
        "\n",
        "    gridsearch = GridSearchCV(GaussianNB(), params, refit=True, cv=5, scoring='balanced_accuracy').fit(x_train, y_train)\n",
        "    best_model = gridsearch.best_estimator_\n",
        "    y_test_predicted = best_model.predict(x_test)\n",
        "    \n",
        "    print(\"##### Naive Bayes Optimized #####\")\n",
        "    print(\"Best model {}\".format(best_model))\n",
        "    plot_confusion_matrix(y_test, y_test_predicted, colour=\"Reds\")\n",
        "    return apply_metric_func(y_true=y_test, y_pred=y_test_predicted, func_list=SUPERVISED_SCORES)\n",
        "\n",
        "naiveBayes_res = train_optimized_naiveBayes(x_train=X_train, y_train=Y_train, x_test=X_validation_test, y_test=Y_validation_test)\n",
        "SCORES_PER_METHOD[NAIVE_BAYES_KEY][\"optimized\"] = naiveBayes_res"
      ],
      "execution_count": 26,
      "outputs": [
        {
          "output_type": "stream",
          "text": [
            "##### Naive Bayes Optimized #####\n",
            "Best model GaussianNB(priors=None, var_smoothing=0.001)\n"
          ],
          "name": "stdout"
        },
        {
          "output_type": "display_data",
          "data": {
            "image/png": "[encoded data removed]",
            "text/plain": [
              "<Figure size 576x576 with 1 Axes>"
            ]
          },
          "metadata": {
            "tags": []
          }
        },
        {
          "output_type": "stream",
          "text": [
            "              precision    recall  f1-score   support\n",
            "\n",
            "           0       0.83      0.75      0.79       100\n",
            "           1       0.59      0.94      0.73       100\n",
            "           2       0.84      0.90      0.87       100\n",
            "           3       0.87      0.39      0.54       100\n",
            "\n",
            "    accuracy                           0.74       400\n",
            "   macro avg       0.78      0.74      0.73       400\n",
            "weighted avg       0.78      0.74      0.73       400\n",
            "\n"
          ],
          "name": "stdout"
        }
      ]
    },
    {
      "cell_type": "markdown",
      "metadata": {
        "id": "6bMP_G4FF2yk"
      },
      "source": [
        "## Comparison"
      ]
    },
    {
      "cell_type": "markdown",
      "metadata": {
        "id": "N3UoJeJjF2yk"
      },
      "source": [
        "### Inter-algorithm"
      ]
    },
    {
      "cell_type": "code",
      "metadata": {
        "colab": {
          "base_uri": "https://localhost:8080/",
          "height": 1000
        },
        "id": "j2nGlPTdF2yk",
        "outputId": "e37c84e9-73da-4d8f-c580-a7472a1a48ed"
      },
      "source": [
        "# intra-algorithm\n",
        "for classifier_name in SCORES_PER_METHOD:\n",
        "    keys_order = [key for key in SCORES_PER_METHOD[classifier_name][\"simple\"]]\n",
        "    d = {key:[] for key in keys_order}\n",
        "    for version in SCORES_PER_METHOD[classifier_name]:\n",
        "        for key in SCORES_PER_METHOD[classifier_name][version]:\n",
        "            d[key].append(SCORES_PER_METHOD[classifier_name][version][key])\n",
        "    \n",
        "    plotdata = pd.DataFrame(d, index=[version for version in SCORES_PER_METHOD[classifier_name]])\n",
        "    plotdata.plot(kind=\"bar\")\n",
        "    plt.title(classifier_name)\n",
        "    plt.xlabel(\"Metrics\")\n",
        "    plt.ylabel(\"Performance\")\n",
        "\n"
      ],
      "execution_count": 27,
      "outputs": [
        {
          "output_type": "display_data",
          "data": {
            "image/png": "[encoded data removed]",
            "text/plain": [
              "<Figure size 432x288 with 1 Axes>"
            ]
          },
          "metadata": {
            "tags": [],
            "needs_background": "light"
          }
        },
        {
          "output_type": "display_data",
          "data": {
            "image/png": "[encoded data removed]",
            "text/plain": [
              "<Figure size 432x288 with 1 Axes>"
            ]
          },
          "metadata": {
            "tags": [],
            "needs_background": "light"
          }
        },
        {
          "output_type": "display_data",
          "data": {
            "image/png": "[encoded data removed]",
            "text/plain": [
              "<Figure size 432x288 with 1 Axes>"
            ]
          },
          "metadata": {
            "tags": [],
            "needs_background": "light"
          }
        },
        {
          "output_type": "display_data",
          "data": {
            "image/png": "[encoded data removed]",
            "text/plain": [
              "<Figure size 432x288 with 1 Axes>"
            ]
          },
          "metadata": {
            "tags": [],
            "needs_background": "light"
          }
        },
        {
          "output_type": "display_data",
          "data": {
            "image/png": "[encoded data removed]",
            "text/plain": [
              "<Figure size 432x288 with 1 Axes>"
            ]
          },
          "metadata": {
            "tags": [],
            "needs_background": "light"
          }
        },
        {
          "output_type": "display_data",
          "data": {
            "image/png": "[encoded data removed]",
            "text/plain": [
              "<Figure size 432x288 with 1 Axes>"
            ]
          },
          "metadata": {
            "tags": [],
            "needs_background": "light"
          }
        }
      ]
    },
    {
      "cell_type": "markdown",
      "metadata": {
        "id": "bIRyodT9F2yk"
      },
      "source": [
        "### Inter-algorithm"
      ]
    },
    {
      "cell_type": "code",
      "metadata": {
        "colab": {
          "base_uri": "https://localhost:8080/",
          "height": 643
        },
        "id": "hvHWusEhF2yl",
        "outputId": "a3ade9dd-1088-4329-849c-c6a33ef1d8b8"
      },
      "source": [
        "# intra-algorithm\n",
        "for version in [\"simple\", \"optimized\"]:\n",
        "    keys_order = [key for key in SCORES_PER_METHOD[XGBOOST_key][version]]\n",
        "    classifier_names = [classifier_name for classifier_name in SCORES_PER_METHOD if classifier_name != KMEANS_KEY]\n",
        "    d = {classifier_name:[] for classifier_name in classifier_names}\n",
        "    for key in keys_order:\n",
        "        for classifier_name in SCORES_PER_METHOD:\n",
        "            if classifier_name != KMEANS_KEY:\n",
        "                d[classifier_name].append(SCORES_PER_METHOD[classifier_name][version][key])\n",
        "                  \n",
        "    plotdata = pd.DataFrame(d, index=[func_name for func_name in keys_order])\n",
        "    plotdata.plot(kind=\"bar\")\n",
        "    plt.title(version)\n",
        "    plt.xlabel(\"Metrics\")\n",
        "    plt.ylabel(\"Performance\")\n"
      ],
      "execution_count": 28,
      "outputs": [
        {
          "output_type": "display_data",
          "data": {
            "image/png": "[encoded data removed]",
            "text/plain": [
              "<Figure size 432x288 with 1 Axes>"
            ]
          },
          "metadata": {
            "tags": [],
            "needs_background": "light"
          }
        },
        {
          "output_type": "display_data",
          "data": {
            "image/png": "[encoded data removed]",
            "text/plain": [
              "<Figure size 432x288 with 1 Axes>"
            ]
          },
          "metadata": {
            "tags": [],
            "needs_background": "light"
          }
        }
      ]
    },
    {
      "cell_type": "markdown",
      "metadata": {
        "id": "_0gPDAkaF5Fy"
      },
      "source": [
        "## 5. Mențiuni"
      ]
    },
    {
      "cell_type": "markdown",
      "metadata": {
        "id": "_IqXt6rAbRbW"
      },
      "source": [
        "**Pentru rezolvarea task-urilor puteți folosi orice bibliotecă doriți.**\n",
        "\n",
        "În scheletul temei, datele sunt încărcate folosind biblioteca [pandas](https://pandas.pydata.org/), însă puteți utiliza orice bibliotecă doriți.\n",
        "\n",
        "**Algoritmii nu trebuie implementați de mână.**\n",
        "\n",
        "\"Rezolvarea\" unei probleme de învățare automată se reduce la îmbunătățirea unei metrici.\n",
        "\n",
        "Un prim pas important este reprezentat de crearea unui *baseline* sau a unei soluții banale, de start (eng. *vanilla solution*) și măsurarea acesteia.\n",
        "\n",
        "Următorul pas îl reprezintă o serie de modificări aduse feature setului sau algoritmului de învățăre. Aceast pas reprezintă o iterație peste soluția inițială.\n",
        "\n",
        "Tot procesul constă în aplicarea mai multor *iterații* până se ajunge la o valoare a metricii suficient de bună pentru problema de rezolvat. În cazul nostru, această valoare este reprezentată de ambiția fiecăruia dintre voi :)\n",
        "\n",
        "**Recomandări**:\n",
        "* biblioteca [sklearn](https://scikit-learn.org/) - oferă o colecție algoritmi de învățare automată, metrici, metode de selectare de caractaristici, etc.\n",
        "* pentru XGBoost puteți folosit biblioteca [xgboost](https://xgboost.readthedocs.io/en/latest/)"
      ]
    },
    {
      "cell_type": "markdown",
      "metadata": {
        "id": "-tkdMwB5S-as"
      },
      "source": [
        "## 6. Link-uri utile\n",
        "* [Evaluarea algoritmilor de clusterizare](https://nlp.stanford.edu/IR-book/html/htmledition/evaluation-of-clustering-1.html)\n",
        "* [Standardizare vs Normalizare](https://medium.com/@rrfd/standardize-or-normalize-examples-in-python-e3f174b65dfc)"
      ]
    },
    {
      "cell_type": "markdown",
      "metadata": {
        "id": "gHfxzF2Omi_G"
      },
      "source": [
        "## Bibliografie\n",
        "<a name=\"fma\">[1] *Michaël Defferrard, Kirell Benzi, Pierre Vandergheynst, Xavier Bresson, FMA: A Dataset For Music Analysis, 18th International Society for Music Information Retrieval Conference, 2017*</a>\n",
        "\n"
      ]
    }
  ]
}